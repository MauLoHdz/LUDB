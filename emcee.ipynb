{
 "cells": [
  {
   "cell_type": "markdown",
   "id": "262f53dd-0706-4851-9e5e-32901342b926",
   "metadata": {},
   "source": [
    "# Parameter fiting using emcee"
   ]
  },
  {
   "cell_type": "markdown",
   "id": "f3de51d9-800a-4264-9a6d-4e733283ebc0",
   "metadata": {},
   "source": [
    "This notebook computes the confidence regions of a set of cosmological parameters using Cosmic Chronometes, Megamasers, Supernovae Ia. This code employs Markov Chain Monte Carlo (MCMC) using the `emcee` package.\n",
    "\n",
    "\n",
    "To improve computation speed, we use `multiprocessing`, which enables parallel processing of complex functions by leveraging multiple CPU cores.\n",
    "\n",
    "\n",
    "The code is designed for the `Base+Union3` data. If you want to change the SNe data to Pantheon+ or DES, make sure to update the `likelihood.chi2_Base_Union3` in the minimization process and in the `lnposterior(theta)` function to the corresponding `chi2_Base_PantheonPlus` or `chi2_Base_DES`, along with the prior value for the absolute magnitude."
   ]
  },
  {
   "cell_type": "code",
   "execution_count": null,
   "id": "a8df84e0-b512-40ce-a495-1d1fc875911d",
   "metadata": {},
   "outputs": [],
   "source": [
    "import likelihood\n",
    "import numpy as np\n",
    "import emcee\n",
    "import corner\n",
    "#from multiprocessing import Pool                                # Use this for Linux \n",
    "from pathos.multiprocessing import ProcessingPool as Pool        # Use this for MacOS\n",
    "import scipy.optimize as opt"
   ]
  },
  {
   "cell_type": "markdown",
   "id": "fd63aeac-0932-49da-9158-14d5482a4d90",
   "metadata": {},
   "source": [
    "In this part, we minimize the $\\chi^{2}$ function to find the parameters values that will serve as initial points in the MCMC sampling. This ensures the Markov chains start near the region of highest likelihood, improving convergence efficiency.  "
   ]
  },
  {
   "cell_type": "code",
   "execution_count": null,
   "id": "062062f2-b667-4eac-9a3c-f3b60af6e3e4",
   "metadata": {},
   "outputs": [],
   "source": [
    "seed_Union3=np.array([ 3.4728e+03,  1.0181e+04,  7.80e+03,  8.448e+03,\n",
    "        7.04511e+03,  5.38222e+02,  3.3014e-01,  7.0811e+01,\n",
    "       -7.3189e-01, -1.27761e+00,  6.4713e-02,  1.3984e+02])\n",
    "\n",
    "minimum=opt.minimize(likelihood.chi2_Base_Union3,seed_Union3,method=\"Nelder-Mead\")\n",
    "print(minimum)"
   ]
  },
  {
   "cell_type": "markdown",
   "id": "55cf3590-000a-4d5b-892d-fa5f84b80cab",
   "metadata": {},
   "source": [
    "Here, we define the priors for the parameters, except for the megamasers velocities, which are treated as nuisance parameters. Additionally, we define the logarithm of the posterior distribution, which will be used as input for the `emcee`.  "
   ]
  },
  {
   "cell_type": "code",
   "execution_count": null,
   "id": "efcc3fd3-e5cb-4fcc-b6bd-77eca1714669",
   "metadata": {},
   "outputs": [],
   "source": [
    "def lnprior(theta):\n",
    "    v1,v2,v3,v4,v5,v6,Om0,H0,w0,wa,M,rd=theta\n",
    "    if 0.<Om0<1. and 0.<H0<150. and -2<w0<-1/3 and -5<wa<5  and -1<M<1 and 0<rd<250:\n",
    "        return 0\n",
    "    return -np.inf\n",
    "\n",
    "def lnposterior(theta):\n",
    "    lnposterior=0\n",
    "    prior =lnprior(theta)\n",
    "    if prior == 0:\n",
    "        lnposterior=-likelihood.chi2_Base_Union3(theta)/2 \n",
    "    else:\n",
    "        return(prior)\n",
    "    if np.isnan(lnposterior):\n",
    "        print(\"Theres a problem with this parameters\",theta)\n",
    "    return lnposterior"
   ]
  },
  {
   "cell_type": "markdown",
   "id": "4fbbbbdb-e85a-4c33-8361-8f92835f58b8",
   "metadata": {},
   "source": [
    "We initialize the `emcee` walkers by randomly sampling around the values that minimize the $\\chi^{2}$ function, ensuring a good starting point for the MCMC. We also execute `emcee` to generate the Markov chains and perform the sampling.  "
   ]
  },
  {
   "cell_type": "code",
   "execution_count": null,
   "id": "704b5d79-4863-46b1-9093-8c3b05c29706",
   "metadata": {},
   "outputs": [],
   "source": [
    "ndim,nwalkers=12,25\n",
    "p1=2*np.random.rand(nwalkers,ndim)-1\n",
    "scale=np.array([10,10,10,10,10,10,0.1,10,0.1,0.1,0.1,10])\n",
    "p2=minimum.x\n",
    "initial_points=p2+np.multiply(p1,scale)\n",
    "\n",
    "nsteps=20000   \n",
    "with Pool() as pool:\n",
    "    sampler = emcee.EnsembleSampler(nwalkers, ndim, lnposterior, pool=pool)\n",
    "    sampler.run_mcmc(initial_points,nsteps,progress=True)"
   ]
  },
  {
   "cell_type": "markdown",
   "id": "d9eb2283-0ae5-4904-9f1f-06832e1a42a4",
   "metadata": {},
   "source": [
    "Finally, we obtain the chains from the sampler and generate contour plots of the parameters using `corner`, which helps visualize the posterior distributions and the correlations between the different parameters.  "
   ]
  },
  {
   "cell_type": "code",
   "execution_count": null,
   "id": "f95520ce-1301-4fb9-a64b-2c01bae9b51a",
   "metadata": {},
   "outputs": [],
   "source": [
    "samples=sampler.get_chain()\n",
    "tau = sampler.get_autocorr_time()\n",
    "\n",
    "flat_samples = sampler.get_chain(discard=int(nsteps/3),thin=int(np.min(tau)/2),flat=True)\n",
    "\n",
    "fig = corner.corner(\n",
    "    flat_samples,labels=[\"v1\",\"v2\",\"v3\",\"v4\",\"v5\",\"v6\",\"Om0\",\"H0\",\"w0\",\"wa\",\"M\",\"rd\"],plot_contours=True,plot_datapoints=False,show_titles=True,smooth=True)"
   ]
  }
 ],
 "metadata": {
  "kernelspec": {
   "display_name": "Python 3 (ipykernel)",
   "language": "python",
   "name": "python3"
  },
  "language_info": {
   "codemirror_mode": {
    "name": "ipython",
    "version": 3
   },
   "file_extension": ".py",
   "mimetype": "text/x-python",
   "name": "python",
   "nbconvert_exporter": "python",
   "pygments_lexer": "ipython3",
   "version": "3.12.4"
  }
 },
 "nbformat": 4,
 "nbformat_minor": 5
}
